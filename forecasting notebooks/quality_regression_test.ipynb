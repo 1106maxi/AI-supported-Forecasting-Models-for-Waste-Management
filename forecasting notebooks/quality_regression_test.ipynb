{
 "cells": [
  {
   "cell_type": "code",
   "execution_count": 2,
   "metadata": {},
   "outputs": [],
   "source": [
    "import sys\n",
    "import os\n",
    "sys.path.append(os.path.abspath('..'))\n",
    "\n",
    "\n",
    "import pandas as pd\n",
    "\n",
    "\n",
    "import catboost as cb\n",
    "from sklearn.model_selection import train_test_split\n",
    "from sklearn.metrics import root_mean_squared_error"
   ]
  },
  {
   "cell_type": "code",
   "execution_count": 3,
   "metadata": {},
   "outputs": [
    {
     "data": {
      "text/html": [
       "<div>\n",
       "<style scoped>\n",
       "    .dataframe tbody tr th:only-of-type {\n",
       "        vertical-align: middle;\n",
       "    }\n",
       "\n",
       "    .dataframe tbody tr th {\n",
       "        vertical-align: top;\n",
       "    }\n",
       "\n",
       "    .dataframe thead th {\n",
       "        text-align: right;\n",
       "    }\n",
       "</style>\n",
       "<table border=\"1\" class=\"dataframe\">\n",
       "  <thead>\n",
       "    <tr style=\"text-align: right;\">\n",
       "      <th></th>\n",
       "      <th>date</th>\n",
       "      <th>arrival_time</th>\n",
       "      <th>company</th>\n",
       "      <th>truck_id</th>\n",
       "      <th>waste_type</th>\n",
       "      <th>quantity_tons</th>\n",
       "      <th>quality_score</th>\n",
       "      <th>moisture_content</th>\n",
       "      <th>contamination_level</th>\n",
       "      <th>heating_value_MJ_per_kg</th>\n",
       "    </tr>\n",
       "  </thead>\n",
       "  <tbody>\n",
       "    <tr>\n",
       "      <th>0</th>\n",
       "      <td>2022-01-01</td>\n",
       "      <td>2022-01-01 06:27:00</td>\n",
       "      <td>RegionalWaste Management</td>\n",
       "      <td>Reg3</td>\n",
       "      <td>Municipal</td>\n",
       "      <td>11.486050</td>\n",
       "      <td>7.929559</td>\n",
       "      <td>37.493209</td>\n",
       "      <td>2.070441</td>\n",
       "      <td>7.263229</td>\n",
       "    </tr>\n",
       "    <tr>\n",
       "      <th>1</th>\n",
       "      <td>2022-01-01</td>\n",
       "      <td>2022-01-01 06:32:00</td>\n",
       "      <td>RegionalWaste Management</td>\n",
       "      <td>Reg1</td>\n",
       "      <td>Industrial</td>\n",
       "      <td>19.855091</td>\n",
       "      <td>6.868888</td>\n",
       "      <td>18.746604</td>\n",
       "      <td>3.131112</td>\n",
       "      <td>11.807504</td>\n",
       "    </tr>\n",
       "    <tr>\n",
       "      <th>2</th>\n",
       "      <td>2022-01-01</td>\n",
       "      <td>2022-01-01 09:58:00</td>\n",
       "      <td>GreenWaste Solutions</td>\n",
       "      <td>Gre2</td>\n",
       "      <td>Organic</td>\n",
       "      <td>3.835948</td>\n",
       "      <td>6.364174</td>\n",
       "      <td>74.986417</td>\n",
       "      <td>3.635826</td>\n",
       "      <td>2.539645</td>\n",
       "    </tr>\n",
       "    <tr>\n",
       "      <th>3</th>\n",
       "      <td>2022-01-01</td>\n",
       "      <td>2022-01-01 10:06:00</td>\n",
       "      <td>IndustrialProcess Ltd</td>\n",
       "      <td>Ind1</td>\n",
       "      <td>Industrial</td>\n",
       "      <td>41.565434</td>\n",
       "      <td>8.821311</td>\n",
       "      <td>18.746604</td>\n",
       "      <td>1.178689</td>\n",
       "      <td>12.570800</td>\n",
       "    </tr>\n",
       "    <tr>\n",
       "      <th>4</th>\n",
       "      <td>2022-01-01</td>\n",
       "      <td>2022-01-01 10:14:00</td>\n",
       "      <td>GreenWaste Solutions</td>\n",
       "      <td>Gre1</td>\n",
       "      <td>Municipal</td>\n",
       "      <td>4.895075</td>\n",
       "      <td>6.149050</td>\n",
       "      <td>37.493209</td>\n",
       "      <td>3.850950</td>\n",
       "      <td>6.849568</td>\n",
       "    </tr>\n",
       "    <tr>\n",
       "      <th>...</th>\n",
       "      <td>...</td>\n",
       "      <td>...</td>\n",
       "      <td>...</td>\n",
       "      <td>...</td>\n",
       "      <td>...</td>\n",
       "      <td>...</td>\n",
       "      <td>...</td>\n",
       "      <td>...</td>\n",
       "      <td>...</td>\n",
       "      <td>...</td>\n",
       "    </tr>\n",
       "    <tr>\n",
       "      <th>17313</th>\n",
       "      <td>2024-12-31</td>\n",
       "      <td>2024-12-31 11:40:00</td>\n",
       "      <td>BuildRight Construction</td>\n",
       "      <td>Bui1</td>\n",
       "      <td>Construction</td>\n",
       "      <td>11.027408</td>\n",
       "      <td>5.704726</td>\n",
       "      <td>20.470406</td>\n",
       "      <td>4.295274</td>\n",
       "      <td>5.970507</td>\n",
       "    </tr>\n",
       "    <tr>\n",
       "      <th>17314</th>\n",
       "      <td>2024-12-31</td>\n",
       "      <td>2024-12-31 13:17:00</td>\n",
       "      <td>MunicipalWaste Co</td>\n",
       "      <td>Mun3</td>\n",
       "      <td>Municipal</td>\n",
       "      <td>16.620243</td>\n",
       "      <td>7.470465</td>\n",
       "      <td>34.117343</td>\n",
       "      <td>2.529535</td>\n",
       "      <td>7.385865</td>\n",
       "    </tr>\n",
       "    <tr>\n",
       "      <th>17315</th>\n",
       "      <td>2024-12-31</td>\n",
       "      <td>2024-12-31 13:34:00</td>\n",
       "      <td>IndustrialProcess Ltd</td>\n",
       "      <td>Ind3</td>\n",
       "      <td>Industrial</td>\n",
       "      <td>20.554325</td>\n",
       "      <td>8.548314</td>\n",
       "      <td>17.058671</td>\n",
       "      <td>1.451686</td>\n",
       "      <td>12.633587</td>\n",
       "    </tr>\n",
       "    <tr>\n",
       "      <th>17316</th>\n",
       "      <td>2024-12-31</td>\n",
       "      <td>2024-12-31 14:45:00</td>\n",
       "      <td>CommercialServices Inc</td>\n",
       "      <td>Com1</td>\n",
       "      <td>Commercial</td>\n",
       "      <td>16.317348</td>\n",
       "      <td>7.322251</td>\n",
       "      <td>22.744895</td>\n",
       "      <td>2.677749</td>\n",
       "      <td>9.278920</td>\n",
       "    </tr>\n",
       "    <tr>\n",
       "      <th>17317</th>\n",
       "      <td>2024-12-31</td>\n",
       "      <td>2024-12-31 17:16:00</td>\n",
       "      <td>GreenWaste Solutions</td>\n",
       "      <td>Gre1</td>\n",
       "      <td>Organic</td>\n",
       "      <td>5.577958</td>\n",
       "      <td>7.827579</td>\n",
       "      <td>68.234686</td>\n",
       "      <td>2.172421</td>\n",
       "      <td>2.929883</td>\n",
       "    </tr>\n",
       "  </tbody>\n",
       "</table>\n",
       "<p>17318 rows × 10 columns</p>\n",
       "</div>"
      ],
      "text/plain": [
       "             date         arrival_time                   company truck_id  \\\n",
       "0      2022-01-01  2022-01-01 06:27:00  RegionalWaste Management     Reg3   \n",
       "1      2022-01-01  2022-01-01 06:32:00  RegionalWaste Management     Reg1   \n",
       "2      2022-01-01  2022-01-01 09:58:00      GreenWaste Solutions     Gre2   \n",
       "3      2022-01-01  2022-01-01 10:06:00     IndustrialProcess Ltd     Ind1   \n",
       "4      2022-01-01  2022-01-01 10:14:00      GreenWaste Solutions     Gre1   \n",
       "...           ...                  ...                       ...      ...   \n",
       "17313  2024-12-31  2024-12-31 11:40:00   BuildRight Construction     Bui1   \n",
       "17314  2024-12-31  2024-12-31 13:17:00         MunicipalWaste Co     Mun3   \n",
       "17315  2024-12-31  2024-12-31 13:34:00     IndustrialProcess Ltd     Ind3   \n",
       "17316  2024-12-31  2024-12-31 14:45:00    CommercialServices Inc     Com1   \n",
       "17317  2024-12-31  2024-12-31 17:16:00      GreenWaste Solutions     Gre1   \n",
       "\n",
       "         waste_type  quantity_tons  quality_score  moisture_content  \\\n",
       "0         Municipal      11.486050       7.929559         37.493209   \n",
       "1        Industrial      19.855091       6.868888         18.746604   \n",
       "2           Organic       3.835948       6.364174         74.986417   \n",
       "3        Industrial      41.565434       8.821311         18.746604   \n",
       "4         Municipal       4.895075       6.149050         37.493209   \n",
       "...             ...            ...            ...               ...   \n",
       "17313  Construction      11.027408       5.704726         20.470406   \n",
       "17314     Municipal      16.620243       7.470465         34.117343   \n",
       "17315    Industrial      20.554325       8.548314         17.058671   \n",
       "17316    Commercial      16.317348       7.322251         22.744895   \n",
       "17317       Organic       5.577958       7.827579         68.234686   \n",
       "\n",
       "       contamination_level  heating_value_MJ_per_kg  \n",
       "0                 2.070441                 7.263229  \n",
       "1                 3.131112                11.807504  \n",
       "2                 3.635826                 2.539645  \n",
       "3                 1.178689                12.570800  \n",
       "4                 3.850950                 6.849568  \n",
       "...                    ...                      ...  \n",
       "17313             4.295274                 5.970507  \n",
       "17314             2.529535                 7.385865  \n",
       "17315             1.451686                12.633587  \n",
       "17316             2.677749                 9.278920  \n",
       "17317             2.172421                 2.929883  \n",
       "\n",
       "[17318 rows x 10 columns]"
      ]
     },
     "execution_count": 3,
     "metadata": {},
     "output_type": "execute_result"
    }
   ],
   "source": [
    "waste_data = pd.read_csv(\"../synthetic_waste_data.csv\")\n",
    "waste_data\n"
   ]
  },
  {
   "cell_type": "markdown",
   "metadata": {},
   "source": [
    "Given that we predicted the daily amount of waste for each company, one could view predicting the quality score as a regression problem."
   ]
  },
  {
   "cell_type": "markdown",
   "metadata": {},
   "source": [
    "Predicting quality score per delivery only based on the company as a feature using CatBoost:"
   ]
  },
  {
   "cell_type": "code",
   "execution_count": 4,
   "metadata": {},
   "outputs": [
    {
     "name": "stdout",
     "output_type": "stream",
     "text": [
      "(17318, 1) (17318,)\n",
      "RMSE: 0.7653371861346364\n"
     ]
    }
   ],
   "source": [
    "X = waste_data[[\"company\"]]\n",
    "y = waste_data[\"quality_score\"]\n",
    "print(X.shape, y.shape)\n",
    "\n",
    "\n",
    "X_train, X_test, y_train, y_test = train_test_split(X, y, test_size=0.2, random_state=42)\n",
    "\n",
    "# Initialize CatBoost regressor\n",
    "model = cb.CatBoostRegressor(\n",
    "    iterations=250,\n",
    "    depth=3,\n",
    "    learning_rate= 0.1,\n",
    "    loss_function='RMSE',\n",
    "    verbose=False,\n",
    "    allow_writing_files=False  # suppress  creation of info file\n",
    "\n",
    ")\n",
    "\n",
    "cat_features = [0]  \n",
    "\n",
    "model.fit(X_train, y_train, cat_features=cat_features)\n",
    "\n",
    "# Make predictions\n",
    "y_pred = model.predict(X_test)\n",
    "\n",
    "# Calculate RMSE\n",
    "rmse = root_mean_squared_error(y_test, y_pred)\n",
    "print(f\"RMSE: {rmse}\")\n"
   ]
  },
  {
   "cell_type": "markdown",
   "metadata": {},
   "source": [
    "Will the waste type improve the prediction?"
   ]
  },
  {
   "cell_type": "code",
   "execution_count": 5,
   "metadata": {},
   "outputs": [
    {
     "name": "stdout",
     "output_type": "stream",
     "text": [
      "(17318, 2) (17318,)\n",
      "RMSE: 0.7468127075458973\n"
     ]
    }
   ],
   "source": [
    "X = waste_data[[\"waste_type\", \"company\"]]\n",
    "y = waste_data[\"quality_score\"]\n",
    "print(X.shape, y.shape)\n",
    "\n",
    "X_train, X_test, y_train, y_test = train_test_split(X, y, test_size=0.2, random_state=42)\n",
    "\n",
    "cat_features = [0,1]  \n",
    "\n",
    "model.fit(X_train, y_train, cat_features=cat_features)\n",
    "\n",
    "\n",
    "y_pred = model.predict(X_test)\n",
    "\n",
    "rmse = root_mean_squared_error(y_test, y_pred)\n",
    "print(f\"RMSE: {rmse}\")\n"
   ]
  },
  {
   "cell_type": "markdown",
   "metadata": {},
   "source": [
    "Slight improvement, though it is important to note that so far only the total amount of waste that a company delivers has been predicted. It is unknown how many deliveries of each waste type are going to happen."
   ]
  },
  {
   "cell_type": "code",
   "execution_count": 6,
   "metadata": {},
   "outputs": [
    {
     "name": "stdout",
     "output_type": "stream",
     "text": [
      "\n",
      "Feature Importance:\n",
      "      Feature  Importance\n",
      "1     company   86.629156\n",
      "0  waste_type   13.370844\n"
     ]
    }
   ],
   "source": [
    "feature_importance = model.get_feature_importance()\n",
    "feature_names = X.columns\n",
    "importance_df = pd.DataFrame({'Feature': feature_names, 'Importance': feature_importance})\n",
    "importance_df = importance_df.sort_values('Importance', ascending=False)\n",
    "print(\"\\nFeature Importance:\")\n",
    "print(importance_df)"
   ]
  },
  {
   "cell_type": "markdown",
   "metadata": {},
   "source": [
    "It seems like that the waste type is not that important for the prediction. Maybe because the companies specialize in a waste type so the additional information is not that helpful.\n",
    "Trying out time features instead:"
   ]
  },
  {
   "cell_type": "code",
   "execution_count": 7,
   "metadata": {},
   "outputs": [
    {
     "name": "stdout",
     "output_type": "stream",
     "text": [
      "(17318, 5) (17318,)\n",
      "RMSE: 0.6949060667790151\n"
     ]
    }
   ],
   "source": [
    "waste_data_temp_features = waste_data.copy()\n",
    "\n",
    "# Create time features\n",
    "waste_data_temp_features['date'] = pd.to_datetime(waste_data_temp_features['date'])\n",
    "waste_data_temp_features['day'] = waste_data_temp_features['date'].dt.day\n",
    "waste_data_temp_features['day_of_week'] = waste_data_temp_features['date'].dt.dayofweek  # 0=Monday, 6=Sunday\n",
    "waste_data_temp_features['month'] = waste_data_temp_features['date'].dt.month\n",
    "waste_data_temp_features['year'] = waste_data_temp_features['date'].dt.year\n",
    "\n",
    "\n",
    "X = waste_data_temp_features[[\"company\", \"day\", \"day_of_week\", \"month\", \"year\"]]\n",
    "y = waste_data_temp_features[\"quality_score\"]\n",
    "print(X.shape, y.shape)\n",
    "\n",
    "\n",
    "X_train, X_test, y_train, y_test = train_test_split(X, y, test_size=0.2, random_state=42)\n",
    "\n",
    "\n",
    "# Specify which features are categorical\n",
    "cat_features = [0,1,2,3,4] \n",
    "\n",
    "\n",
    "model.fit(X_train, y_train, cat_features=cat_features)\n",
    "y_pred = model.predict(X_test)\n",
    "\n",
    "\n",
    "\n",
    "rmse = root_mean_squared_error(y_test, y_pred)\n",
    "print(f\"RMSE: {rmse}\")\n",
    "\n"
   ]
  },
  {
   "cell_type": "code",
   "execution_count": 8,
   "metadata": {},
   "outputs": [
    {
     "name": "stdout",
     "output_type": "stream",
     "text": [
      "\n",
      "Feature Importance:\n",
      "       Feature  Importance\n",
      "0      company   78.495014\n",
      "3        month   18.614133\n",
      "1          day    1.069547\n",
      "2  day_of_week    1.020626\n",
      "4         year    0.800679\n"
     ]
    }
   ],
   "source": [
    "feature_importance = model.get_feature_importance()\n",
    "feature_names = X.columns\n",
    "importance_df = pd.DataFrame({'Feature': feature_names, 'Importance': feature_importance})\n",
    "importance_df = importance_df.sort_values('Importance', ascending=False)\n",
    "print(\"\\nFeature Importance:\")\n",
    "print(importance_df)"
   ]
  },
  {
   "cell_type": "markdown",
   "metadata": {},
   "source": [
    "These seem like the best features."
   ]
  }
 ],
 "metadata": {
  "kernelspec": {
   "display_name": "Python 3",
   "language": "python",
   "name": "python3"
  },
  "language_info": {
   "codemirror_mode": {
    "name": "ipython",
    "version": 3
   },
   "file_extension": ".py",
   "mimetype": "text/x-python",
   "name": "python",
   "nbconvert_exporter": "python",
   "pygments_lexer": "ipython3",
   "version": "3.10.0"
  }
 },
 "nbformat": 4,
 "nbformat_minor": 2
}
